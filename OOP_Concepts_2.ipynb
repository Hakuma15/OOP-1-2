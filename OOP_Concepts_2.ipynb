{
  "nbformat": 4,
  "nbformat_minor": 0,
  "metadata": {
    "colab": {
      "name": "OOP Concepts 2.ipynb",
      "provenance": [],
      "authorship_tag": "ABX9TyMiXLrYgvmhg5/U1QzOdRn4",
      "include_colab_link": true
    },
    "kernelspec": {
      "name": "python3",
      "display_name": "Python 3"
    },
    "language_info": {
      "name": "python"
    }
  },
  "cells": [
    {
      "cell_type": "markdown",
      "metadata": {
        "id": "view-in-github",
        "colab_type": "text"
      },
      "source": [
        "<a href=\"https://colab.research.google.com/github/Hakuma15/OOP-1-2/blob/main/OOP_Concepts_2.ipynb\" target=\"_parent\"><img src=\"https://colab.research.google.com/assets/colab-badge.svg\" alt=\"Open In Colab\"/></a>"
      ]
    },
    {
      "cell_type": "markdown",
      "source": [
        "Classes with Multiple Objects"
      ],
      "metadata": {
        "id": "ludSjUXnYD9O"
      }
    },
    {
      "cell_type": "code",
      "source": [
        "class Birds:\n",
        "  def __init__(self,bird_name):\n",
        "    self.bird_name = bird_name\n",
        "\n",
        "  def flying_birds(self):\n",
        "    print(f\"{self.bird_name} files above the sky\")\n",
        "\n",
        "  def non_flying_birds(self):\n",
        "    print(f\"{self.bird_name} is the national bird of the Philippines\")\n",
        "\n",
        "vulture = Birds(\"Griffon Vulture\")\n",
        "crane = Birds(\"Common Crane\")\n",
        "emu = Birds(\"Emu\")\n",
        "\n",
        "vulture.flying_birds()\n",
        "crane.flying_birds()\n",
        "emu.non_flying_birds()"
      ],
      "metadata": {
        "colab": {
          "base_uri": "https://localhost:8080/"
        },
        "id": "UOVLr8MlYIrH",
        "outputId": "569fa1d3-7f87-4347-a5f6-38c3b6eb7a41"
      },
      "execution_count": null,
      "outputs": [
        {
          "output_type": "stream",
          "name": "stdout",
          "text": [
            "Griffon Vulture files above the sky\n",
            "Common Crane files above the sky\n",
            "Emu is the national bird of the Philippines\n"
          ]
        }
      ]
    },
    {
      "cell_type": "code",
      "source": [
        "class foo:\n",
        "  def __init__(self,a,b):\n",
        "    self.__a = a\n",
        "    self.__b = b\n",
        "\n",
        "  def add(self):\n",
        "    return self.__a +self.__b #Private attributes\n",
        "\n",
        "number = foo(3,4)\n",
        "number.add()\n",
        "\n",
        "number.a = 7 #7,4 7+4 = 11\n",
        "\n",
        "number.add()"
      ],
      "metadata": {
        "colab": {
          "base_uri": "https://localhost:8080/"
        },
        "id": "zfSJcTLxYOcG",
        "outputId": "112b9e1f-490c-4a19-eb5f-2f51f21ab9df"
      },
      "execution_count": null,
      "outputs": [
        {
          "output_type": "execute_result",
          "data": {
            "text/plain": [
              "7"
            ]
          },
          "metadata": {},
          "execution_count": 2
        }
      ]
    },
    {
      "cell_type": "markdown",
      "source": [
        "Encapsulation with Private Attributes"
      ],
      "metadata": {
        "id": "F1B36FlaYTKt"
      }
    },
    {
      "cell_type": "code",
      "source": [
        "class Counter:\n",
        "  def __init__(self):\n",
        "    self.current = 0\n",
        "\n",
        "  def increment(self):\n",
        "    self.current +=1\n",
        "  def value(self):\n",
        "    return self.current\n",
        "  def reset(self):\n",
        "    self.current = 0\n",
        "\n",
        "num = Counter()\n",
        "num.increment()   #counter = counter + 1\n",
        "num.increment()\n",
        "num.increment()\n",
        "\n",
        "num.value()"
      ],
      "metadata": {
        "colab": {
          "base_uri": "https://localhost:8080/"
        },
        "id": "Q8hj53uRYTf9",
        "outputId": "c980df7d-6892-473f-fc4b-744ccfc88800"
      },
      "execution_count": null,
      "outputs": [
        {
          "output_type": "execute_result",
          "data": {
            "text/plain": [
              "3"
            ]
          },
          "metadata": {},
          "execution_count": 3
        }
      ]
    },
    {
      "cell_type": "code",
      "source": [
        "class Counter:\n",
        "  def __init__(self):\n",
        "    self.__current = 0\n",
        "\n",
        "  def increment(self):\n",
        "    self.__current +=1\n",
        "  def value(self):\n",
        "    return self.__current\n",
        "  def reset(self):\n",
        "    self.__current = 0\n",
        "\n",
        "num = Counter()\n",
        "\n",
        "num.increment()   #counter = counter + 1\n",
        "num.increment()\n",
        "num.increment()\n",
        "\n",
        "num.counter = 1\n",
        "\n",
        "num.value()"
      ],
      "metadata": {
        "colab": {
          "base_uri": "https://localhost:8080/"
        },
        "id": "tMD15PEnYZk1",
        "outputId": "35d2729a-1d26-4076-fffa-a9bac020690a"
      },
      "execution_count": null,
      "outputs": [
        {
          "output_type": "execute_result",
          "data": {
            "text/plain": [
              "3"
            ]
          },
          "metadata": {},
          "execution_count": 4
        }
      ]
    },
    {
      "cell_type": "markdown",
      "source": [
        "Inheritance"
      ],
      "metadata": {
        "id": "khhGxcJbYdPE"
      }
    },
    {
      "cell_type": "code",
      "source": [
        "class Person:\n",
        "  def __init__(self, firstname, surname):\n",
        "    self.firstname = firstname\n",
        "    self.surname = surname\n",
        "\n",
        "  def printname(self):\n",
        "    print(self.firstname, self.surname)\n",
        "\n",
        "person = Person(\"Jea\", \"Gadil\")\n",
        "person.printname()\n",
        "\n",
        "class Teacher(Person):\n",
        "  pass\n",
        "\n",
        "person2 = Teacher(\"Maria\", \"Sayo\")\n",
        "person2.printname()\n",
        "\n",
        "class Student(Person):\n",
        "  pass\n",
        "\n",
        "person3 = Student(\"Ian Rafael\", \"Umipig\")\n",
        "person3.printname()"
      ],
      "metadata": {
        "colab": {
          "base_uri": "https://localhost:8080/"
        },
        "id": "yLEUn41oYdzO",
        "outputId": "0a338594-0090-4348-8ec1-5d26c1de16b6"
      },
      "execution_count": null,
      "outputs": [
        {
          "output_type": "stream",
          "name": "stdout",
          "text": [
            "Jea Gadil\n",
            "Maria Sayo\n",
            "Ian Rafael Umipig\n"
          ]
        }
      ]
    },
    {
      "cell_type": "markdown",
      "source": [
        "Polymorphism"
      ],
      "metadata": {
        "id": "Ui-X5lbRYwLG"
      }
    },
    {
      "cell_type": "code",
      "source": [
        "class RegularPolygon:\n",
        "    def __init__(self,side):\n",
        "        self.side = side\n",
        "class Square(RegularPolygon):\n",
        "    def area(self):\n",
        "        return self.side * self.side\n",
        "class EquilateralTriangle(RegularPolygon):\n",
        "    def area(self):\n",
        "        return self.side * self.side * 0.433\n",
        "\n",
        "object = Square(4)\n",
        "print(object.area())\n",
        "\n",
        "object2 = EquilateralTriangle(3)\n",
        "print(object2.area())"
      ],
      "metadata": {
        "colab": {
          "base_uri": "https://localhost:8080/"
        },
        "id": "iHVHYGM9YyKl",
        "outputId": "86192d55-0f90-42b8-e250-df1e43be45a3"
      },
      "execution_count": null,
      "outputs": [
        {
          "output_type": "stream",
          "name": "stdout",
          "text": [
            "16\n",
            "3.897\n"
          ]
        }
      ]
    },
    {
      "cell_type": "markdown",
      "source": [
        "Application 1\n",
        "1. Create a Python program that displays the name of three students (Student 1, Student 2, and Student 3) and their term grades\n",
        "2. Create a class name Person and attributes - std1, std2 std2, pre,mid,fin\n",
        "3. Compute the average of each term grade using Grade() method\n",
        "4. Information about student's grades must be hidden from others"
      ],
      "metadata": {
        "id": "hH60MkJ9Y55u"
      }
    },
    {
      "cell_type": "code",
      "source": [
        "class Person:\n",
        "  def __init__(self,std,pre,mid,fin):\n",
        "    self.__std = std\n",
        "    self.__pre = pre\n",
        "    self.__mid = mid\n",
        "    self.__fin = fin\n",
        "\n",
        "  def Grade(self):\n",
        "    return round((self.__pre + self.__mid + self.__fin)/3,2)\n",
        "\n",
        "class Student1(Person):\n",
        "  pass\n",
        "\n",
        "std1 = str(input(\"Enter student name: \"))\n",
        "pre_1 = float(input(\"Enter Prelim Grade: \"))\n",
        "mid_1 = float(input(\"Enter Midterm Grade: \"))\n",
        "fin_1 = float(input(\"Enter Final Grade: \"))\n",
        "\n",
        "Student_1 = Person(std1, pre_1, mid_1, fin_1)\n",
        "print(\"The Average grade of this student is\", Student_1.Grade())\n",
        "\n",
        "print()\n",
        "\n",
        "\n",
        "class Student2(Person):\n",
        "  pass\n",
        "\n",
        "std2 = str(input(\"Enter student name: \"))\n",
        "pre_2 = float(input(\"Enter Prelim Grade: \"))\n",
        "mid_2 = float(input(\"Enter Midterm Grade: \"))\n",
        "fin_2 = float(input(\"Enter Final Grade: \"))\n",
        "\n",
        "Student_2 = Person(std2, pre_2, mid_2, fin_2)\n",
        "print(\"The Average grade of this student is\", Student_2.Grade())\n",
        "\n",
        "print()\n",
        "\n",
        "class Student3(Person):\n",
        "  pass\n",
        "\n",
        "std3 = str(input(\"Enter student name: \"))\n",
        "pre_3 = float(input(\"Enter Prelim Grade: \"))\n",
        "mid_3 = float(input(\"Enter Midterm Grade: \"))\n",
        "fin_3 = float(input(\"Enter Final Grade: \"))\n",
        "\n",
        "Student_3 = Person(std3, pre_3, mid_3, fin_3)\n",
        "print(\"The Average grade of this student is\", Student_3.Grade())\n",
        "\n",
        "print()"
      ],
      "metadata": {
        "colab": {
          "base_uri": "https://localhost:8080/"
        },
        "id": "FMkbVvR4Y68U",
        "outputId": "c99875b1-35ca-41e2-9b89-d3fb23787e0f"
      },
      "execution_count": null,
      "outputs": [
        {
          "output_type": "stream",
          "name": "stdout",
          "text": [
            "Enter student name: Ian Rafael Umipig\n",
            "Enter Prelim Grade: 98\n",
            "Enter Midterm Grade: 92\n",
            "Enter Final Grade: 91\n",
            "The Average grade of this student is 93.67\n",
            "\n",
            "Enter student name: Rovick Causaren\n",
            "Enter Prelim Grade: 83\n",
            "Enter Midterm Grade: 95\n",
            "Enter Final Grade: 96\n",
            "The Average grade of this student is 91.33\n",
            "\n",
            "Enter student name: Mat Valenzuela\n",
            "Enter Prelim Grade: 97\n",
            "Enter Midterm Grade: 93\n",
            "Enter Final Grade: 91\n",
            "The Average grade of this student is 93.67\n",
            "\n"
          ]
        }
      ]
    }
  ]
}