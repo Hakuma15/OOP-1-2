{
  "nbformat": 4,
  "nbformat_minor": 0,
  "metadata": {
    "colab": {
      "name": "Prelim Examination.ipynb",
      "provenance": [],
      "authorship_tag": "ABX9TyOZ36gwlTO0Yq+QX3Z9zuiy",
      "include_colab_link": true
    },
    "kernelspec": {
      "name": "python3",
      "display_name": "Python 3"
    },
    "language_info": {
      "name": "python"
    }
  },
  "cells": [
    {
      "cell_type": "markdown",
      "metadata": {
        "id": "view-in-github",
        "colab_type": "text"
      },
      "source": [
        "<a href=\"https://colab.research.google.com/github/Hakuma15/OOP-1-2/blob/main/Prelim_Examination.ipynb\" target=\"_parent\"><img src=\"https://colab.research.google.com/assets/colab-badge.svg\" alt=\"Open In Colab\"/></a>"
      ]
    },
    {
      "cell_type": "code",
      "execution_count": 13,
      "metadata": {
        "colab": {
          "base_uri": "https://localhost:8080/"
        },
        "id": "dYO0eGxBkppQ",
        "outputId": "c57f208e-03d7-4ab4-febc-9f18664495a0"
      },
      "outputs": [
        {
          "output_type": "stream",
          "name": "stdout",
          "text": [
            "Hi my name is Ian Rafael Umipig \n",
            "I am currently 19 years old.\n",
            "I am also Studying in Cavite State University - Main Campus taking Bachelor of Science in Computer Engineering with a student number of 20212024\n"
          ]
        }
      ],
      "source": [
        "class Student:\n",
        "  def __init__(self,Name, Student_No, Age, Course, School):  \n",
        "    self.Name = Name \n",
        "    self.Student_No = Student_No\n",
        "    self.Age = Age\n",
        "    self.Course = Course\n",
        "    self.School = School\n",
        "\n",
        "  def info(self):\n",
        "    print(\"Hi my name is\", self.Name, \"\\nI am currently\", self.Age, \"years old.\" \"\\nI am also Studying in\", self.School, \"taking\", self.Course, \"with a student number of\", self.Student_No)\n",
        "\n",
        "Myself = Student(\"Ian Rafael Umipig\", \"20212024\", \"19\",  \"Bachelor of Science in Computer Engineering\", \"Cavite State University - Main Campus\")\n",
        "Myself.info()\n"
      ]
    }
  ]
}