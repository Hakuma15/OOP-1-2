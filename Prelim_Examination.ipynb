{
  "nbformat": 4,
  "nbformat_minor": 0,
  "metadata": {
    "colab": {
      "name": "Prelim Examination.ipynb",
      "provenance": [],
      "authorship_tag": "ABX9TyOQClK5InHWtW2cLuR32oUg",
      "include_colab_link": true
    },
    "kernelspec": {
      "name": "python3",
      "display_name": "Python 3"
    },
    "language_info": {
      "name": "python"
    }
  },
  "cells": [
    {
      "cell_type": "markdown",
      "metadata": {
        "id": "view-in-github",
        "colab_type": "text"
      },
      "source": [
        "<a href=\"https://colab.research.google.com/github/Hakuma15/OOP-1-2/blob/main/Prelim_Examination.ipynb\" target=\"_parent\"><img src=\"https://colab.research.google.com/assets/colab-badge.svg\" alt=\"Open In Colab\"/></a>"
      ]
    },
    {
      "cell_type": "code",
      "execution_count": 11,
      "metadata": {
        "colab": {
          "base_uri": "https://localhost:8080/"
        },
        "id": "dYO0eGxBkppQ",
        "outputId": "eb8bc8ff-782c-4801-f485-b92d50f12299"
      },
      "outputs": [
        {
          "output_type": "stream",
          "name": "stdout",
          "text": [
            "Hi my name is Ian Rafael Umipig .\n",
            "I am currently 19 years old.\n",
            "I am also Studying in Bachelor of Science in Computer Engineering taking Cavite State University - Main Campus with a student number of 20212024\n"
          ]
        }
      ],
      "source": [
        "class Student:\n",
        "  def __init__(self,Name, Student_No, Age, Course, School):  \n",
        "    self.Name = Name \n",
        "    self.Student_No = Student_No\n",
        "    self.Age = Age\n",
        "    self.Course = Course\n",
        "    self.School = School\n",
        "\n",
        "  def info(self):\n",
        "    print(\"Hi my name is\", self.Name, \"\\nI am currently\", self.Age, \"years old.\" \"\\nI am also Studying in\", self.School, \"taking\", self.Course, \"with a student number of\", self.Student_No)\n",
        "\n",
        "Myself = Student(\"Ian Rafael Umipig\", \"20212024\", \"19\", \"Cavite State University - Main Campus\", \"Bachelor of Science in Computer Engineering\")\n",
        "Myself.info()\n"
      ]
    }
  ]
}