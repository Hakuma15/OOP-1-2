{
  "nbformat": 4,
  "nbformat_minor": 0,
  "metadata": {
    "colab": {
      "name": "Midterm Examination.ipynb",
      "provenance": [],
      "authorship_tag": "ABX9TyPbPm/R9yyvX9P0RNoYzsaW",
      "include_colab_link": true
    },
    "kernelspec": {
      "name": "python3",
      "display_name": "Python 3"
    },
    "language_info": {
      "name": "python"
    }
  },
  "cells": [
    {
      "cell_type": "markdown",
      "metadata": {
        "id": "view-in-github",
        "colab_type": "text"
      },
      "source": [
        "<a href=\"https://colab.research.google.com/github/Hakuma15/OOP-1-2/blob/main/Midterm_Examination.ipynb\" target=\"_parent\"><img src=\"https://colab.research.google.com/assets/colab-badge.svg\" alt=\"Open In Colab\"/></a>"
      ]
    },
    {
      "cell_type": "code",
      "execution_count": 17,
      "metadata": {
        "colab": {
          "base_uri": "https://localhost:8080/"
        },
        "id": "m1OKeNzDjvTh",
        "outputId": "8b2bd497-e4a4-46c7-fbc5-3d3e47e79ac6"
      },
      "outputs": [
        {
          "output_type": "stream",
          "name": "stdout",
          "text": [
            "Enter the temperature in Celsius:35\n",
            "308.15Kelvin\n",
            "95.0Fahrenheit\n",
            "Enter the temperature in Fahrenheit:95\n",
            "35.0Celsius\n",
            "Enter the temperature in Kelvin:27\n",
            "-246.15Celsius\n"
          ]
        }
      ],
      "source": [
        "def main():\n",
        "  class TemperatureConversion:\n",
        "    def __init__(self, temp=1):\n",
        "      self._temp = temp\n",
        "\n",
        "  class CelsiusToFahrenheit(TemperatureConversion):\n",
        "    def conversion(self):\n",
        "      return (self._temp * 9) / 5 + 32\n",
        "  class CelsiusToKelvin(TemperatureConversion):\n",
        "    def conversion(self):\n",
        "      return self._temp + 273.15\n",
        "  \n",
        "\n",
        "  tempInCelsius = float(input(\"Enter the temperature in Celsius:\"))\n",
        "  convert = CelsiusToKelvin(tempInCelsius)\n",
        "  print(str(convert.conversion()) +  \"Kelvin\")\n",
        "  convert = CelsiusToFahrenheit(tempInCelsius)\n",
        "  print(str(convert.conversion()) + \"Fahrenheit\")\n",
        "\n",
        "\n",
        "  class FahrenheitToCelsius(TemperatureConversion):\n",
        "    def conversion(self):\n",
        "      return (self._temp - 32)/1.8\n",
        "  class KelvinToCelsius(TemperatureConversion):\n",
        "    def conversion(self):\n",
        "      return self._temp - 273.15\n",
        "\n",
        "  tempInFahrenheit = float(input(\"Enter the temperature in Fahrenheit:\"))\n",
        "  convert = FahrenheitToCelsius(tempInFahrenheit)\n",
        "  print(str(round(convert.conversion(),2)) +  \"Celsius\")\n",
        "  \n",
        "  tempInKelvin = float(input(\"Enter the temperature in Kelvin:\"))\n",
        "  convert = KelvinToCelsius(tempInKelvin)\n",
        "  print(str(round(convert.conversion(),2)) + \"Celsius\")\n",
        "\n",
        "\n",
        "main()"
      ]
    }
  ]
}