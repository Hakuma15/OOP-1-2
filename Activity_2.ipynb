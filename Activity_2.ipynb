{
  "nbformat": 4,
  "nbformat_minor": 0,
  "metadata": {
    "colab": {
      "name": "Activity 2.ipynb",
      "provenance": [],
      "authorship_tag": "ABX9TyM23J8DstBSsluVzxA3uKnp",
      "include_colab_link": true
    },
    "kernelspec": {
      "name": "python3",
      "display_name": "Python 3"
    },
    "language_info": {
      "name": "python"
    }
  },
  "cells": [
    {
      "cell_type": "markdown",
      "metadata": {
        "id": "view-in-github",
        "colab_type": "text"
      },
      "source": [
        "<a href=\"https://colab.research.google.com/github/Hakuma15/OOP-1-2/blob/main/Activity_2.ipynb\" target=\"_parent\"><img src=\"https://colab.research.google.com/assets/colab-badge.svg\" alt=\"Open In Colab\"/></a>"
      ]
    },
    {
      "cell_type": "code",
      "execution_count": null,
      "metadata": {
        "id": "8GI6LPEmWt96"
      },
      "outputs": [],
      "source": [
        "#Write a python program that computes the temperature Celsius to Fahrenheit. Create a class name Temperature \n",
        "#Create Celsius as attribute name, Temp() as method, and temp1 as object name F= 1.8xC + 32"
      ]
    },
    {
      "cell_type": "code",
      "source": [
        "class Temperature:\n",
        "  def __init__(self, Celsius):\n",
        "    self.Celsius = Celsius\n",
        "\n",
        "  def Temp(self):\n",
        "    return ((1.8 * self.Celsius)+ 32)\n",
        "    \n",
        "\n",
        "input_C = float(input(\"Input Celsius Temperature:\"))\n",
        "temp1 = Temperature(input_C)\n",
        "print(round(temp1.Temp(),2))"
      ],
      "metadata": {
        "id": "I92QU93fYRYF",
        "colab": {
          "base_uri": "https://localhost:8080/"
        },
        "outputId": "1732212a-0603-4224-fb43-5dd2e85fa360"
      },
      "execution_count": null,
      "outputs": [
        {
          "output_type": "stream",
          "name": "stdout",
          "text": [
            "Input Celsius Temperature:30\n",
            "86.0\n"
          ]
        }
      ]
    },
    {
      "cell_type": "code",
      "source": [
        "class Circle():\n",
        "  def __init__(self, radius):\n",
        "    self.radius = radius  \n",
        "\n",
        "  def Area(self):\n",
        "    return ((self.radius*self.radius)*3.14)\n",
        "\n",
        "  def Perimeter(self):\n",
        "    return ((self.radius*2)*3.14)\n",
        "\n",
        "input_a  = float(input(\"Input Radius: \"))\n",
        "radius1 = Circle(input_a)\n",
        "print(radius1.Area())\n",
        "print(radius1.Perimeter())"
      ],
      "metadata": {
        "colab": {
          "base_uri": "https://localhost:8080/"
        },
        "id": "0JGI7MnjEEBg",
        "outputId": "5d60d30b-2342-4007-8c58-ab456a124f5d"
      },
      "execution_count": 5,
      "outputs": [
        {
          "output_type": "stream",
          "name": "stdout",
          "text": [
            "Input Radius: 4\n",
            "50.24\n",
            "25.12\n"
          ]
        }
      ]
    }
  ]
}