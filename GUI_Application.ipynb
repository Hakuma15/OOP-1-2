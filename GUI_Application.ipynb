{
  "nbformat": 4,
  "nbformat_minor": 0,
  "metadata": {
    "colab": {
      "name": "GUI Application.ipynb",
      "provenance": [],
      "authorship_tag": "ABX9TyPDdAjNoc64+O28fEITEsWZ",
      "include_colab_link": true
    },
    "kernelspec": {
      "name": "python3",
      "display_name": "Python 3"
    },
    "language_info": {
      "name": "python"
    }
  },
  "cells": [
    {
      "cell_type": "markdown",
      "metadata": {
        "id": "view-in-github",
        "colab_type": "text"
      },
      "source": [
        "<a href=\"https://colab.research.google.com/github/Hakuma15/OOP-1-2/blob/main/GUI_Application.ipynb\" target=\"_parent\"><img src=\"https://colab.research.google.com/assets/colab-badge.svg\" alt=\"Open In Colab\"/></a>"
      ]
    },
    {
      "cell_type": "code",
      "execution_count": 4,
      "metadata": {
        "id": "KFmQoMkaukSc",
        "colab": {
          "base_uri": "https://localhost:8080/"
        },
        "outputId": "21e683b7-0a5b-4feb-f803-ae17e490b309"
      },
      "outputs": [
        {
          "output_type": "stream",
          "name": "stdout",
          "text": [
            "The Prelim Grade of student 1 is100\n",
            "The Midterm Grade of student 1 is100\n",
            "The Final Grade of student 1 is100\n",
            "The Semestral grade of student 1 is100.0\n",
            "His Gender isFemale\n"
          ]
        }
      ],
      "source": [
        "#@title Students Grade in OOP\n",
        "\n",
        "Student_Name1= \"Enter the student name\" #@param {type:\"string\"}\n",
        "prelim=100 #@param {type:\"number\"}\n",
        "midterm=100 #@param {type:\"number\"}\n",
        "final=100 #@param {type:\"number\"}\n",
        "semestral_grade=(prelim+midterm+final)/3\n",
        "\n",
        "print(\"The Prelim Grade of student 1 is\"+\"\"+str(prelim))\n",
        "print(\"The Midterm Grade of student 1 is\"+\"\"+str(midterm))\n",
        "print(\"The Final Grade of student 1 is\"+\"\"+str(final))\n",
        "print(\"The Semestral grade of student 1 is\" + str(semestral_grade))\n",
        "\n",
        "#@title Gender\n",
        "Gender = \"Female\" #@param [\"Male\",\"Female\"]\n",
        "print(\"His Gender is\" + Gender)\n",
        "\n",
        "Birthdate='2002-12-15' #@param {type:\"date\"}\n",
        "\n"
      ]
    }
  ]
}